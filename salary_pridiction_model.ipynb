{
 "cells": [
  {
   "cell_type": "code",
   "execution_count": 10,
   "id": "25faedc1-12aa-4587-a8d7-99b14398dfee",
   "metadata": {},
   "outputs": [],
   "source": [
    "import joblib\n",
    "salary=joblib.load('salary_model.pkl')"
   ]
  },
  {
   "cell_type": "code",
   "execution_count": 11,
   "id": "04275c6a-67db-408d-b0f0-c087021a03f1",
   "metadata": {},
   "outputs": [
    {
     "name": "stderr",
     "output_type": "stream",
     "text": [
      "C:\\Users\\bhand\\anaconda3\\Lib\\site-packages\\sklearn\\utils\\validation.py:2739: UserWarning: X does not have valid feature names, but LinearRegression was fitted with feature names\n",
      "  warnings.warn(\n"
     ]
    },
    {
     "data": {
      "text/plain": [
       "array([53205.96797671])"
      ]
     },
     "execution_count": 11,
     "metadata": {},
     "output_type": "execute_result"
    }
   ],
   "source": [
    "salary.predict([[2,9,6]])"
   ]
  },
  {
   "cell_type": "code",
   "execution_count": 12,
   "id": "12525aa8-f98c-4743-8b42-aada56c56f73",
   "metadata": {},
   "outputs": [
    {
     "name": "stdout",
     "output_type": "stream",
     "text": [
      "Enter the values for salary prediction:\n"
     ]
    },
    {
     "name": "stdin",
     "output_type": "stream",
     "text": [
      "Enter your experience value: 12\n",
      "Enter your test score value: 10\n",
      "Enter your interview score value: 10\n"
     ]
    },
    {
     "name": "stdout",
     "output_type": "stream",
     "text": [
      "The salary is estimated to be: [92002.18340611]\n"
     ]
    },
    {
     "name": "stderr",
     "output_type": "stream",
     "text": [
      "C:\\Users\\bhand\\anaconda3\\Lib\\site-packages\\sklearn\\utils\\validation.py:2739: UserWarning: X does not have valid feature names, but LinearRegression was fitted with feature names\n",
      "  warnings.warn(\n"
     ]
    }
   ],
   "source": [
    "print(\"Enter the values for salary prediction:\")\n",
    "experience=int(input(\"Enter your experience value:\"))\n",
    "test_score=int(input(\"Enter your test score value:\"))\n",
    "interview_score=int(input(\"Enter your interview score value:\"))\n",
    "predicted_salary=salary.predict([[experience,test_score,interview_score]])\n",
    "print(\"The salary is estimated to be:\",predicted_salary)"
   ]
  },
  {
   "cell_type": "code",
   "execution_count": null,
   "id": "e7ede893-567f-4aed-a9fa-609a1fc0ff29",
   "metadata": {},
   "outputs": [],
   "source": []
  }
 ],
 "metadata": {
  "kernelspec": {
   "display_name": "Python 3",
   "language": "python",
   "name": "python3"
  },
  "language_info": {
   "codemirror_mode": {
    "name": "ipython",
    "version": 3
   },
   "file_extension": ".py",
   "mimetype": "text/x-python",
   "name": "python",
   "nbconvert_exporter": "python",
   "pygments_lexer": "ipython3",
   "version": "3.13.5"
  }
 },
 "nbformat": 4,
 "nbformat_minor": 5
}
